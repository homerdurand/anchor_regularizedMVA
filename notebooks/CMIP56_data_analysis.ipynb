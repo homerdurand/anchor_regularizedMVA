{
 "cells": [
  {
   "cell_type": "code",
   "execution_count": null,
   "id": "f5f62fa5",
   "metadata": {},
   "outputs": [],
   "source": [
    "import cartopy.crs as ccrs\n",
    "from cartopy.mpl.gridliner import LONGITUDE_FORMATTER, LATITUDE_FORMATTER\n",
    "from matplotlib import gridspec\n",
    "import seaborn as sns\n",
    "from matplotlib import pyplot as plt\n",
    "\n",
    "from scipy import signal\n",
    "import random\n",
    "import itertools\n",
    "\n",
    "import pandas as pd\n",
    "import xarray as xr\n",
    "import numpy as np\n",
    "import pickle\n",
    "\n",
    "import warnings\n",
    "from tqdm import tqdm\n",
    "import os\n",
    "\n",
    "from datetime import datetime\n",
    "\n",
    "from sklearn.linear_model import LinearRegression, Ridge, RidgeCV\n",
    "from sklearn.cross_decomposition import PLSRegression, CCA\n",
    "from sklearn.decomposition import FactorAnalysis, PCA\n",
    "from sklearn.model_selection import train_test_split\n",
    "from sklearn.preprocessing import PolynomialFeatures\n",
    "from sklearn.model_selection import cross_val_score\n",
    "from MVA_algo_v2 import ReducedRankRegressor as RRR\n",
    "from sklearn.metrics import r2_score\n",
    "\n",
    "from data_treatment_tools import *\n",
    "from anchor_models import *"
   ]
  },
  {
   "cell_type": "code",
   "execution_count": null,
   "id": "7533d78b",
   "metadata": {},
   "outputs": [],
   "source": [
    "import matplotlib.pyplot as plt\n",
    "\n",
    "from tueplots import bundles\n",
    "\n",
    "bundles.icml2022()\n",
    "{'text.usetex': True, 'font.family': 'serif', 'text.latex.preamble': '\\\\usepackage{times} ', 'figure.figsize': (3.25, 2.0086104634371584), 'figure.constrained_layout.use': True, 'figure.autolayout': False, 'savefig.bbox': 'tight', 'savefig.pad_inches': 0.015, 'font.size': 8, 'axes.labelsize': 8, 'legend.fontsize': 6, 'xtick.labelsize': 6, 'ytick.labelsize': 6, 'axes.titlesize': 8}\n",
    "\n",
    "bundles.icml2022(family=\"sans-serif\", usetex=False, column=\"full\", nrows=2)\n",
    "{'text.usetex': False, 'font.serif': ['Times'], 'mathtext.fontset': 'stix', 'mathtext.rm': 'Times', 'mathtext.it': 'Times:italic', 'mathtext.bf': 'Times:bold', 'font.family': 'sans-serif', 'figure.figsize': (6.75, 8.343458848123582), 'figure.constrained_layout.use': True, 'figure.autolayout': False, 'savefig.bbox': 'tight', 'savefig.pad_inches': 0.015, 'font.size': 8, 'axes.labelsize': 8, 'legend.fontsize': 6, 'xtick.labelsize': 6, 'ytick.labelsize': 6, 'axes.titlesize': 8}\n",
    "\n",
    "\n",
    "# Plug any of those into either the rcParams or into an rc_context:\n",
    "\n",
    "plt.rcParams.update(bundles.icml2022())"
   ]
  },
  {
   "cell_type": "markdown",
   "id": "854d3da6",
   "metadata": {},
   "source": [
    "# Loading data"
   ]
  },
  {
   "cell_type": "code",
   "execution_count": null,
   "id": "8c5b89d3",
   "metadata": {},
   "outputs": [],
   "source": [
    "file_name = 'cmip56_data_coarse3_year.pkl'\n",
    "directory = '../data/'\n",
    "# Selecting low DIV for train and high DIV for test\n",
    "models_train_full = ['CCSM4', 'NorCPM1', 'CESM2', 'HadCM3']\n",
    "models_test = ['CNRM-CM6-1', 'CNRM-ESM2-1', 'IPSL-CM6A-LR']  #'IPSL-CM6A-LR', \n",
    "models = models_train_full + models_test\n",
    "with open(directory+file_name, 'rb') as f:\n",
    "    data = pickle.load(f)\n",
    "\n",
    "time = data['time']\n",
    "lon = data['lon']\n",
    "lat = data['lat']"
   ]
  },
  {
   "cell_type": "code",
   "execution_count": null,
   "id": "ff4c6132",
   "metadata": {},
   "outputs": [],
   "source": [
    "# Parameters of DIV, RMT and RIV\n",
    "n_lat, n_lon, window_size = 30, 60, 10\n",
    "\n",
    "# Adding ensemble average of tas (ea_tas) and global mean temperature (gmt)\n",
    "for model in models :\n",
    "    data[model]['ea_tas'] = data[model]['tas'].mean(axis=0)\n",
    "    data[model]['gmt'] = data[model]['ea_tas'].mean(axis=(1, 2))\n",
    "\n",
    "    \n",
    "# Adding Decaal Internal Variability (div), Regional Mean Temperature (rmt) and Regional Internal variability (riv)\n",
    "for model in models:\n",
    "    div = decadalInternalVariability(data[model]['tas'], data[model]['gmt'])\n",
    "    rmt, riv = regionalMeanTemperature(data[model]['tas'], n_lat, n_lon, window_size)\n",
    "    data[model]['div'] = div\n",
    "    data[model]['rmt'] = rmt\n",
    "    data[model]['riv'] = riv"
   ]
  },
  {
   "cell_type": "code",
   "execution_count": null,
   "id": "d5bb7bba",
   "metadata": {},
   "outputs": [],
   "source": [
    "import matplotlib.pyplot as plt\n",
    "import matplotlib.colors as mcolors\n",
    "# Create a colormap object using 'coolwarm'\n",
    "cmap = plt.cm.get_cmap('coolwarm')\n",
    "# Get the RGBA values for blue (minimum value in the colormap)\n",
    "blue_rgba = cmap(0.1)\n",
    "# Get the RGBA values for red (maximum value in the colormap)\n",
    "red_rgba = cmap(0.9)"
   ]
  },
  {
   "cell_type": "markdown",
   "id": "ce197876",
   "metadata": {},
   "source": [
    "# Data analysis"
   ]
  },
  {
   "cell_type": "code",
   "execution_count": null,
   "id": "bde62cad",
   "metadata": {},
   "outputs": [],
   "source": [
    "div_std_train = []\n",
    "for model in models_train_full:\n",
    "    for div_std in data[model]['div'].std(axis=1) :\n",
    "        div_std_train.append(div_std)\n",
    "div_std_train = np.array(div_std_train)\n",
    "\n",
    "div_std_test = []\n",
    "for model in models_test:\n",
    "    for div_std in data[model]['div'].std(axis=1) :\n",
    "        div_std_test.append(div_std)\n",
    "div_std_test = np.array(div_std_test)"
   ]
  },
  {
   "cell_type": "code",
   "execution_count": null,
   "id": "e62309d9",
   "metadata": {},
   "outputs": [],
   "source": [
    "import matplotlib.pyplot as plt\n",
    "\n",
    "# Define the figure size\n",
    "plt.figure(figsize=(10, 6))\n",
    "\n",
    "# Plot the histograms\n",
    "plt.hist(div_std_test, color=red_rgba, bins=24, edgecolor=\"black\", label='Testing models', hatch='/')\n",
    "plt.hist(div_std_train, bins=8, alpha=0.9, color=blue_rgba, edgecolor=\"black\", label='Training models')\n",
    "\n",
    "# Set labels and legend\n",
    "plt.ylabel('Number of members', fontsize=25)\n",
    "plt.xlabel('DIV standard deviation', fontsize=25)\n",
    "plt.legend(loc='upper right', fontsize=25)\n",
    "\n",
    "# Increase the size of ticks\n",
    "plt.xticks(fontsize=25)\n",
    "plt.yticks(fontsize=25)\n",
    "\n",
    "# Save and display the plot\n",
    "directory = '../results'\n",
    "plt.savefig(directory + \"/DIV_train_test_split.pdf\", format=\"pdf\", bbox_inches=\"tight\")\n",
    "plt.show()\n",
    "\n"
   ]
  },
  {
   "cell_type": "markdown",
   "id": "ceaccf1c",
   "metadata": {},
   "source": [
    "## Local trends"
   ]
  },
  {
   "cell_type": "code",
   "execution_count": null,
   "id": "6cc8858c",
   "metadata": {},
   "outputs": [],
   "source": [
    "years = 40\n",
    "regional_trends = {}\n",
    "for model in models:\n",
    "    shape = data[model]['rmt'].shape\n",
    "    Y = data[model]['rmt'][-years:,:,:].reshape(years, shape[1]*shape[2])\n",
    "    X = np.arange(Y.shape[0])[:,None]\n",
    "    trend = LinearRegression().fit(X, Y).coef_.reshape(shape[1], shape[2])\n",
    "    regional_trends[model] = np.array(trend)"
   ]
  },
  {
   "cell_type": "code",
   "execution_count": null,
   "id": "dc441835",
   "metadata": {},
   "outputs": [],
   "source": [
    "# Plotting\n",
    "fig = plt.figure(figsize=(10, 6))\n",
    "ax = fig.add_subplot(1, 1, 1, projection=ccrs.PlateCarree())\n",
    "\n",
    "contour = ax.pcolormesh(lon, lat, regional_trends[models[0]], transform=ccrs.PlateCarree(), cmap='coolwarm')\n",
    "\n",
    "# Add coastlines and gridlines\n",
    "ax.coastlines()\n",
    "gl = ax.gridlines(draw_labels=True)\n",
    "gl.top_labels = gl.right_labels = False\n",
    "gl.xformatter = LONGITUDE_FORMATTER\n",
    "gl.yformatter = LATITUDE_FORMATTER\n",
    "\n",
    "plt.colorbar(contour, ax=ax, label='Error')\n",
    "\n",
    "plt.title('Mean Error of ML Model on Temperature Predictions')\n",
    "plt.show()\n"
   ]
  },
  {
   "cell_type": "markdown",
   "id": "c9b7037b",
   "metadata": {},
   "source": [
    "## Variability differences across training and testing models"
   ]
  },
  {
   "cell_type": "code",
   "execution_count": null,
   "id": "fd0ea55d",
   "metadata": {},
   "outputs": [],
   "source": [
    "var_train = []\n",
    "for model in models_train_full:\n",
    "    var_train.append(data[model]['riv'].std(axis=1).mean(axis=0))\n",
    "var_train_mean = np.mean(var_train, axis=0)\n",
    "     \n",
    "var_test = []\n",
    "for model in models_test:\n",
    "    var_test.append(data[model]['riv'].std(axis=1).mean(axis=0))\n",
    "var_test_mean = np.mean(var_test, axis=0)"
   ]
  },
  {
   "cell_type": "code",
   "execution_count": null,
   "id": "0a02de4a",
   "metadata": {},
   "outputs": [],
   "source": [
    "diff_var = var_test_mean - var_train_mean"
   ]
  },
  {
   "cell_type": "code",
   "execution_count": null,
   "id": "bc804d16",
   "metadata": {},
   "outputs": [],
   "source": [
    "# Plotting\n",
    "fig = plt.figure(figsize=(10, 6))\n",
    "ax = fig.add_subplot(1, 1, 1, projection=ccrs.PlateCarree())\n",
    "\n",
    "contour = ax.pcolormesh(lon, lat, diff_var, transform=ccrs.PlateCarree(), cmap='coolwarm', vmax=0.3)\n",
    "\n",
    "# Add coastlines and gridlines\n",
    "ax.coastlines()\n",
    "gl = ax.gridlines(draw_labels=True)\n",
    "gl.top_labels = gl.right_labels = False\n",
    "gl.xformatter = LONGITUDE_FORMATTER\n",
    "gl.yformatter = LATITUDE_FORMATTER\n",
    "\n",
    "plt.colorbar(contour, ax=ax, label='Var(test) - Var(train)')\n",
    "\n",
    "#plt.title('Mean Error of ML Model on Temperature Predictions')\n",
    "directory = '../results'\n",
    "plt.savefig(directory + \"/Variability_differences_train_test_split.pdf\", format=\"pdf\", bbox_inches=\"tight\")\n",
    "plt.show()\n"
   ]
  },
  {
   "cell_type": "code",
   "execution_count": null,
   "id": "c858382b",
   "metadata": {},
   "outputs": [],
   "source": []
  }
 ],
 "metadata": {
  "kernelspec": {
   "display_name": "Python 3 (ipykernel)",
   "language": "python",
   "name": "python3"
  },
  "language_info": {
   "codemirror_mode": {
    "name": "ipython",
    "version": 3
   },
   "file_extension": ".py",
   "mimetype": "text/x-python",
   "name": "python",
   "nbconvert_exporter": "python",
   "pygments_lexer": "ipython3",
   "version": "3.10.6"
  }
 },
 "nbformat": 4,
 "nbformat_minor": 5
}
